{
  "nbformat": 4,
  "nbformat_minor": 0,
  "metadata": {
    "colab": {
      "provenance": [],
      "authorship_tag": "ABX9TyO3ttpk0HHck/Y6YfeCfWJN",
      "include_colab_link": true
    },
    "kernelspec": {
      "name": "python3",
      "display_name": "Python 3"
    },
    "language_info": {
      "name": "python"
    }
  },
  "cells": [
    {
      "cell_type": "markdown",
      "metadata": {
        "id": "view-in-github",
        "colab_type": "text"
      },
      "source": [
        "<a href=\"https://colab.research.google.com/github/2303A51758/2303A51758-b-11-PDS/blob/main/lab_3_aug_21.ipynb\" target=\"_parent\"><img src=\"https://colab.research.google.com/assets/colab-badge.svg\" alt=\"Open In Colab\"/></a>"
      ]
    },
    {
      "cell_type": "code",
      "source": [
        "import numpy as np\n",
        "\n",
        "# Step 1: Generate a 2D array of test scores (4x4)\n",
        "np.random.seed(42)   # for reproducibility\n",
        "scores = np.random.randint(50, 101, size=(4, 4))  # scores between 50–100\n",
        "print(\"Test Scores (4x4):\\n\", scores)\n",
        "\n",
        "# Step 2: Row-wise and Column-wise means\n",
        "row_means = np.mean(scores, axis=1)\n",
        "col_means = np.mean(scores, axis=0)\n",
        "\n",
        "print(\"\\nRow-wise Means:\", row_means)\n",
        "print(\"Column-wise Means:\", col_means)\n",
        "\n",
        "# Step 3: Standard Deviation and Variance\n",
        "std_dev = np.std(scores)\n",
        "variance = np.var(scores)\n",
        "\n",
        "print(\"\\nStandard Deviation (Global):\", std_dev)\n",
        "print(\"Variance (Global):\", variance)\n",
        "\n",
        "# Step 4: Global max, min and their indices\n",
        "global_max = np.max(scores)\n",
        "global_min = np.min(scores)\n",
        "\n",
        "max_index = np.unravel_index(np.argmax(scores), scores.shape)\n",
        "min_index = np.unravel_index(np.argmin(scores), scores.shape)\n",
        "\n",
        "print(\"\\nGlobal Max:\", global_max, \"at index\", max_index)\n",
        "print(\"Global Min:\", global_min, \"at index\", min_index)\n",
        "\n",
        "# Step 5: Column-wise statistics\n",
        "col_max = np.max(scores, axis=0)\n",
        "col_min = np.min(scores, axis=0)\n",
        "col_std = np.std(scores, axis=0)\n",
        "\n",
        "print(\"\\nColumn-wise Max:\", col_max)\n",
        "print(\"Column-wise Min:\", col_min)\n",
        "print(\"Column-wise Std Dev:\", col_std)\n"
      ],
      "metadata": {
        "colab": {
          "base_uri": "https://localhost:8080/"
        },
        "id": "YlaRu7FQS3tS",
        "outputId": "e707ce23-6b17-491f-adf0-e67002296ac4"
      },
      "execution_count": 3,
      "outputs": [
        {
          "output_type": "stream",
          "name": "stdout",
          "text": [
            "Test Scores (4x4):\n",
            " [[88 78 64 92]\n",
            " [57 70 88 68]\n",
            " [72 60 60 73]\n",
            " [85 89 73 52]]\n",
            "\n",
            "Row-wise Means: [80.5  70.75 66.25 74.75]\n",
            "Column-wise Means: [75.5  74.25 71.25 71.25]\n",
            "\n",
            "Standard Deviation (Global): 12.214073593605043\n",
            "Variance (Global): 149.18359375\n",
            "\n",
            "Global Max: 92 at index (np.int64(0), np.int64(3))\n",
            "Global Min: 52 at index (np.int64(3), np.int64(3))\n",
            "\n",
            "Column-wise Max: [88 89 88 92]\n",
            "Column-wise Min: [57 60 60 52]\n",
            "Column-wise Std Dev: [12.25765067 10.63896142 10.75581238 14.27191298]\n"
          ]
        }
      ]
    },
    {
      "cell_type": "code",
      "source": [
        "import numpy as np\n",
        "\n",
        "# Step 1: Create a 3D array (3x3x3) to simulate RGB image\n",
        "# Each value between 0–255 (uint8 like image pixels)\n",
        "np.random.seed(42)\n",
        "image = np.random.randint(0, 256, size=(3, 3, 3), dtype=np.uint8)\n",
        "\n",
        "print(\"Original Image Array (3x3x3):\\n\", image)\n",
        "\n",
        "# Step 2: Extract Red, Green, and Blue layers\n",
        "red_channel   = image[:, :, 0]\n",
        "green_channel = image[:, :, 1]\n",
        "blue_channel  = image[:, :, 2]\n",
        "\n",
        "print(\"\\nRed Channel:\\n\", red_channel)\n",
        "print(\"\\nGreen Channel:\\n\", green_channel)\n",
        "print(\"\\nBlue Channel:\\n\", blue_channel)\n",
        "\n",
        "# Step 3: Compute average pixel intensity per channel\n",
        "avg_red   = np.mean(red_channel)\n",
        "avg_green = np.mean(green_channel)\n",
        "avg_blue  = np.mean(blue_channel)\n",
        "\n",
        "print(\"\\nAverage Intensities:\")\n",
        "print(\"Red:\", avg_red, \" Green:\", avg_green, \" Blue:\", avg_blue)\n",
        "\n",
        "# Step 4: Brighten image by adding scalar (clip at 255)\n",
        "brightened = np.clip(image + 50, 0, 255)\n",
        "\n",
        "print(\"\\nBrightened Image Array:\\n\", brightened)\n",
        "\n",
        "# Step 5 (Optional Visualization if using matplotlib)\n",
        "try:\n",
        "    import matplotlib.pyplot as plt\n",
        "\n",
        "    fig, axes = plt.subplots(1, 4, figsize=(12, 3))\n",
        "\n",
        "    axes[0].imshow(image)\n",
        "    axes[0].set_title(\"Original\")\n",
        "    axes[0].axis(\"off\")\n",
        "\n",
        "    axes[1].imshow(red_channel, cmap=\"Reds\")\n",
        "    axes[1].set_title(\"Red Channel\")\n",
        "    axes[1].axis(\"off\")\n",
        "\n",
        "    axes[2].imshow(green_channel, cmap=\"Greens\")\n",
        "    axes[2].set_title(\"Green Channel\")\n",
        "    axes[2].axis(\"off\")\n",
        "\n",
        "    axes[3].imshow(blue_channel, cmap=\"Blues\")\n",
        "    axes[3].set_title(\"Blue Channel\")\n",
        "    axes[3].axis(\"off\")\n",
        "\n",
        "    plt.show()\n",
        "except:\n",
        "    print(\"\\n(Matplotlib not available in this environment, skipping visualization)\")\n"
      ],
      "metadata": {
        "colab": {
          "base_uri": "https://localhost:8080/",
          "height": 959
        },
        "id": "KW4W53zzTTlT",
        "outputId": "087e1b07-6d32-468f-c0bc-133a04b039ff"
      },
      "execution_count": 4,
      "outputs": [
        {
          "output_type": "stream",
          "name": "stdout",
          "text": [
            "Original Image Array (3x3x3):\n",
            " [[[102 220 225]\n",
            "  [ 95 179  61]\n",
            "  [234 203  92]]\n",
            "\n",
            " [[  3  98 243]\n",
            "  [ 14 149 245]\n",
            "  [ 46 106 244]]\n",
            "\n",
            " [[ 99 187  71]\n",
            "  [212 153 199]\n",
            "  [188 174  65]]]\n",
            "\n",
            "Red Channel:\n",
            " [[102  95 234]\n",
            " [  3  14  46]\n",
            " [ 99 212 188]]\n",
            "\n",
            "Green Channel:\n",
            " [[220 179 203]\n",
            " [ 98 149 106]\n",
            " [187 153 174]]\n",
            "\n",
            "Blue Channel:\n",
            " [[225  61  92]\n",
            " [243 245 244]\n",
            " [ 71 199  65]]\n",
            "\n",
            "Average Intensities:\n",
            "Red: 110.33333333333333  Green: 163.22222222222223  Blue: 160.55555555555554\n",
            "\n",
            "Brightened Image Array:\n",
            " [[[152  14  19]\n",
            "  [145 229 111]\n",
            "  [ 28 253 142]]\n",
            "\n",
            " [[ 53 148  37]\n",
            "  [ 64 199  39]\n",
            "  [ 96 156  38]]\n",
            "\n",
            " [[149 237 121]\n",
            "  [  6 203 249]\n",
            "  [238 224 115]]]\n"
          ]
        },
        {
          "output_type": "display_data",
          "data": {
            "text/plain": [
              "<Figure size 1200x300 with 4 Axes>"
            ],
            "image/png": "[encoded data removed]"
          },
          "metadata": {}
        }
      ]
    }
  ]
}