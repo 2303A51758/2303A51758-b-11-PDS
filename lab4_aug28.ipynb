{
  "nbformat": 4,
  "nbformat_minor": 0,
  "metadata": {
    "colab": {
      "provenance": [],
      "authorship_tag": "ABX9TyOgvEaSW0RgUTnc4Jza8OcO",
      "include_colab_link": true
    },
    "kernelspec": {
      "name": "python3",
      "display_name": "Python 3"
    },
    "language_info": {
      "name": "python"
    }
  },
  "cells": [
    {
      "cell_type": "markdown",
      "metadata": {
        "id": "view-in-github",
        "colab_type": "text"
      },
      "source": [
        "<a href=\"https://colab.research.google.com/github/2303A51758/2303A51758-b-11-PDS/blob/main/lab4_aug28.ipynb\" target=\"_parent\"><img src=\"https://colab.research.google.com/assets/colab-badge.svg\" alt=\"Open In Colab\"/></a>"
      ]
    },
    {
      "cell_type": "code",
      "execution_count": 14,
      "metadata": {
        "colab": {
          "base_uri": "https://localhost:8080/"
        },
        "id": "RS0zq6SIzXJ0",
        "outputId": "28138cca-edee-4d51-d3cb-f6a6cceaeee4"
      },
      "outputs": [
        {
          "output_type": "stream",
          "name": "stdout",
          "text": [
            "Original Data:\n",
            "   Student_ID     Name  Math  Science  English\n",
            "0         101    Aarav  85.0     78.0     92.0\n",
            "1         102     Isha  90.0      NaN     88.0\n",
            "2         103   Vihaan  72.0     80.0      NaN\n",
            "3         104   Ananya   NaN     76.0     81.0\n",
            "4         105   Aditya  88.0     91.0     77.0\n",
            "5         106    Divya  95.0     89.0     94.0\n",
            "6         107  Krishna  68.0      NaN     72.0\n",
            "7         108   Saanvi  78.0     85.0     80.0\n",
            "8         109    Arjun  82.0     79.0      NaN\n",
            "9         110    Meera   NaN     84.0     90.0 \n",
            "\n"
          ]
        }
      ],
      "source": [
        "#student marks analysis\n",
        "import pandas as pd\n",
        "#Read the CSV file\n",
        "df = pd.read_csv(\"student_scores.csv\")\n",
        "print(\"Original Data:\")\n",
        "print(df, \"\\n\")"
      ]
    },
    {
      "cell_type": "code",
      "source": [
        "import pandas as pd\n",
        "#Read the CSV file df = pd.read_csv(\"student_scores.csv\")\n",
        "print(\"Original Data:\")\n",
        "print(df, \"\\n\")"
      ],
      "metadata": {
        "colab": {
          "base_uri": "https://localhost:8080/"
        },
        "id": "6t4aWn2w0wUE",
        "outputId": "6138d301-6ed3-494f-cc80-72df61265577"
      },
      "execution_count": 7,
      "outputs": [
        {
          "output_type": "stream",
          "name": "stdout",
          "text": [
            "Original Data:\n",
            "   Student_ID     Name  Math  Science  English\n",
            "0         101    Aarav  85.0     78.0     92.0\n",
            "1         102     Isha  90.0      NaN     88.0\n",
            "2         103   Vihaan  72.0     80.0      NaN\n",
            "3         104   Ananya   NaN     76.0     81.0\n",
            "4         105   Aditya  88.0     91.0     77.0\n",
            "5         106    Divya  95.0     89.0     94.0\n",
            "6         107  Krishna  68.0      NaN     72.0\n",
            "7         108   Saanvi  78.0     85.0     80.0\n",
            "8         109    Arjun  82.0     79.0      NaN\n",
            "9         110    Meera   NaN     84.0     90.0 \n",
            "\n"
          ]
        }
      ]
    },
    {
      "cell_type": "code",
      "source": [
        "#Filter students who scored more than 75 in all subjects\n",
        "high_achievers = df[(df['Math'] > 75) &                            (df['Science'] > 75) &                            (df['English'] > 75)]\n",
        "print(\"High Achievers (scored > 75 in all subjects):\")\n",
        "print(high_achievers)"
      ],
      "metadata": {
        "colab": {
          "base_uri": "https://localhost:8080/"
        },
        "id": "R-GLZu_H1QrE",
        "outputId": "0b8356c9-26cd-4297-f20f-cdf0b4e19ae6"
      },
      "execution_count": 13,
      "outputs": [
        {
          "output_type": "stream",
          "name": "stdout",
          "text": [
            "High Achievers (scored > 75 in all subjects):\n",
            "   Student_ID    Name  Math  Science  English\n",
            "0         101   Aarav  85.0     78.0     92.0\n",
            "4         105  Aditya  88.0     91.0     77.0\n",
            "5         106   Divya  95.0     89.0     94.0\n",
            "7         108  Saanvi  78.0     85.0     80.0\n"
          ]
        }
      ]
    },
    {
      "cell_type": "code",
      "source": [
        "#Hospital Patient Records\n",
        "import pandas as pd\n",
        "df = pd.read_excel(\"patients.xlsx\")\n",
        "print(\"Original Data:\")\n",
        "print(df, \"\\n\")"
      ],
      "metadata": {
        "colab": {
          "base_uri": "https://localhost:8080/"
        },
        "id": "5EmeSXX327uc",
        "outputId": "f8bd1670-c12d-4b4a-d730-a8aa99a0d44f"
      },
      "execution_count": 33,
      "outputs": [
        {
          "output_type": "stream",
          "name": "stdout",
          "text": [
            "Original Data:\n",
            "    Patient_ID      Name       Age   Gender      Diagnosis   Admission_Date  \\\n",
            "0        101.0     Meera      55.0   Female       Diabetes       2025-03-12   \n",
            "1        102.0     Aarav       NaN     Male   Hypertension       2025-02-18   \n",
            "2        103.0    Ananya       NaN   Female       Diabetes       2025-01-25   \n",
            "3        104.0   Krishna      47.0     Male        Asthama       2025-03-05   \n",
            "4        105.0    Saanvi      72.0   Female       Diabetes       2025-02-10   \n",
            "5        106.0    Aditya      34.0     Male       Fracture       2025-03-19   \n",
            "6        107.0      Isha       NaN   Female       Diabetes       2025-01-15   \n",
            "7        108.0    Vihaan      50.0     Male  Heart Disease       2025-02-28   \n",
            "8        109.0      Diya       NaN   Female   Hypertension       2025-03-02   \n",
            "9        110.0     Arjun      66.0     Male       Diabetes       2025-03-14   \n",
            "10         NaN       NaN       NaN      NaN            NaN              NaT   \n",
            "11         NaN       NaN       NaN      NaN            NaN              NaT   \n",
            "12         NaN       NaN       NaN      NaN            NaN              NaT   \n",
            "\n",
            "    Unnamed: 6  Unnamed: 7 Unnamed: 8  \n",
            "0          NaN         NaN        NaN  \n",
            "1          NaN         NaN        NaN  \n",
            "2          NaN         NaN        NaN  \n",
            "3          NaN         NaN        NaN  \n",
            "4          NaN         NaN        NaN  \n",
            "5          NaN         NaN        NaN  \n",
            "6          NaN         NaN        NaN  \n",
            "7          NaN         NaN        NaN  \n",
            "8          NaN         NaN        NaN  \n",
            "9          NaN         NaN        NaN  \n",
            "10         NaN         NaN        NaN  \n",
            "11         NaN         NaN        NaN  \n",
            "12         NaN         NaN          z   \n",
            "\n"
          ]
        }
      ]
    },
    {
      "cell_type": "code",
      "source": [
        "#Replace missing Age values with median median_age = df['Age'].median() df['Age'] = df['Age'].fillna(median_age)\n",
        "print(\"After Filling Missing Ages with Median:\")\n",
        "print(df, \"\\n\")"
      ],
      "metadata": {
        "colab": {
          "base_uri": "https://localhost:8080/"
        },
        "id": "qy7FZXRk5Ugl",
        "outputId": "68048c14-031e-4a32-e5ff-c529cce30cf7"
      },
      "execution_count": 46,
      "outputs": [
        {
          "output_type": "stream",
          "name": "stdout",
          "text": [
            "After Filling Missing Ages with Median:\n",
            "    Patient_ID      Name       Age   Gender      Diagnosis   Admission_Date  \\\n",
            "0        101.0     Meera      55.0   Female       Diabetes       2025-03-12   \n",
            "1        102.0     Aarav       NaN     Male   Hypertension       2025-02-18   \n",
            "2        103.0    Ananya       NaN   Female       Diabetes       2025-01-25   \n",
            "3        104.0   Krishna      47.0     Male        Asthama       2025-03-05   \n",
            "4        105.0    Saanvi      72.0   Female       Diabetes       2025-02-10   \n",
            "5        106.0    Aditya      34.0     Male       Fracture       2025-03-19   \n",
            "6        107.0      Isha       NaN   Female       Diabetes       2025-01-15   \n",
            "7        108.0    Vihaan      50.0     Male  Heart Disease       2025-02-28   \n",
            "8        109.0      Diya       NaN   Female   Hypertension       2025-03-02   \n",
            "9        110.0     Arjun      66.0     Male       Diabetes       2025-03-14   \n",
            "10         NaN       NaN       NaN      NaN            NaN              NaT   \n",
            "11         NaN       NaN       NaN      NaN            NaN              NaT   \n",
            "12         NaN       NaN       NaN      NaN            NaN              NaT   \n",
            "\n",
            "    Unnamed: 6  Unnamed: 7 Unnamed: 8  \n",
            "0          NaN         NaN        NaN  \n",
            "1          NaN         NaN        NaN  \n",
            "2          NaN         NaN        NaN  \n",
            "3          NaN         NaN        NaN  \n",
            "4          NaN         NaN        NaN  \n",
            "5          NaN         NaN        NaN  \n",
            "6          NaN         NaN        NaN  \n",
            "7          NaN         NaN        NaN  \n",
            "8          NaN         NaN        NaN  \n",
            "9          NaN         NaN        NaN  \n",
            "10         NaN         NaN        NaN  \n",
            "11         NaN         NaN        NaN  \n",
            "12         NaN         NaN          z   \n",
            "\n"
          ]
        }
      ]
    },
    {
      "cell_type": "code",
      "source": [
        "#Replace missing Age values with median median_age = df['Age'].median() df['Age'] = df['Age'].fillna(median_age)\n",
        "print(\"After Filling Missing Ages with Median:\")\n",
        "print(df, \"\\n\")"
      ],
      "metadata": {
        "colab": {
          "base_uri": "https://localhost:8080/"
        },
        "id": "Lh7f4POp5WAQ",
        "outputId": "dcbd915d-06f7-427e-a67e-cb72a9b60f25"
      },
      "execution_count": 47,
      "outputs": [
        {
          "output_type": "stream",
          "name": "stdout",
          "text": [
            "After Filling Missing Ages with Median:\n",
            "    Patient_ID      Name       Age   Gender      Diagnosis   Admission_Date  \\\n",
            "0        101.0     Meera      55.0   Female       Diabetes       2025-03-12   \n",
            "1        102.0     Aarav       NaN     Male   Hypertension       2025-02-18   \n",
            "2        103.0    Ananya       NaN   Female       Diabetes       2025-01-25   \n",
            "3        104.0   Krishna      47.0     Male        Asthama       2025-03-05   \n",
            "4        105.0    Saanvi      72.0   Female       Diabetes       2025-02-10   \n",
            "5        106.0    Aditya      34.0     Male       Fracture       2025-03-19   \n",
            "6        107.0      Isha       NaN   Female       Diabetes       2025-01-15   \n",
            "7        108.0    Vihaan      50.0     Male  Heart Disease       2025-02-28   \n",
            "8        109.0      Diya       NaN   Female   Hypertension       2025-03-02   \n",
            "9        110.0     Arjun      66.0     Male       Diabetes       2025-03-14   \n",
            "10         NaN       NaN       NaN      NaN            NaN              NaT   \n",
            "11         NaN       NaN       NaN      NaN            NaN              NaT   \n",
            "12         NaN       NaN       NaN      NaN            NaN              NaT   \n",
            "\n",
            "    Unnamed: 6  Unnamed: 7 Unnamed: 8  \n",
            "0          NaN         NaN        NaN  \n",
            "1          NaN         NaN        NaN  \n",
            "2          NaN         NaN        NaN  \n",
            "3          NaN         NaN        NaN  \n",
            "4          NaN         NaN        NaN  \n",
            "5          NaN         NaN        NaN  \n",
            "6          NaN         NaN        NaN  \n",
            "7          NaN         NaN        NaN  \n",
            "8          NaN         NaN        NaN  \n",
            "9          NaN         NaN        NaN  \n",
            "10         NaN         NaN        NaN  \n",
            "11         NaN         NaN        NaN  \n",
            "12         NaN         NaN          z   \n",
            "\n"
          ]
        }
      ]
    }
  ]
}