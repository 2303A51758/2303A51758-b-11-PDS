{
  "nbformat": 4,
  "nbformat_minor": 0,
  "metadata": {
    "colab": {
      "provenance": [],
      "authorship_tag": "ABX9TyMF1VvosPBoQAcuBJ1HUlIM",
      "include_colab_link": true
    },
    "kernelspec": {
      "name": "python3",
      "display_name": "Python 3"
    },
    "language_info": {
      "name": "python"
    }
  },
  "cells": [
    {
      "cell_type": "markdown",
      "metadata": {
        "id": "view-in-github",
        "colab_type": "text"
      },
      "source": [
        "<a href=\"https://colab.research.google.com/github/2303A51758/2303A51758-b-11-PDS/blob/main/lab2_aug_7.ipynb\" target=\"_parent\"><img src=\"https://colab.research.google.com/assets/colab-badge.svg\" alt=\"Open In Colab\"/></a>"
      ]
    },
    {
      "cell_type": "code",
      "execution_count": null,
      "metadata": {
        "colab": {
          "base_uri": "https://localhost:8080/"
        },
        "id": "YNsI8-MSK0JB",
        "outputId": "8a59894b-b35e-49ec-d1ce-b935be1072fe"
      },
      "outputs": [
        {
          "output_type": "stream",
          "name": "stdout",
          "text": [
            "Student Marks Array:\n",
            " [[85 78 92]\n",
            " [76 88 81]\n",
            " [90 94 89]\n",
            " [65 70 72]\n",
            " [88 91 85]]\n",
            "\n",
            "Average Marks of Each Student: [85.         81.66666667 91.         69.         88.        ]\n",
            "Minimum Marks of Each Student: [78 76 89 65 85]\n",
            "Maximum Marks of Each Student: [92 88 94 72 91]\n",
            "\n",
            "Marks of 2nd and 4th students:\n",
            " [[76 88 81]\n",
            " [65 70 72]]\n"
          ]
        },
        {
          "output_type": "execute_result",
          "data": {
            "text/plain": [
              "<function print(*args, sep=' ', end='\\n', file=None, flush=False)>"
            ]
          },
          "metadata": {},
          "execution_count": 1
        }
      ],
      "source": [
        "import numpy as np\n",
        "\n",
        "# 1. Create a 2D NumPy array for student marks in 3 subjects (5 students example)\n",
        "# Each row = student, each column = subject\n",
        "marks = np.array([\n",
        "    [85, 78, 92],\n",
        "    [76, 88, 81],\n",
        "    [90, 94, 89],\n",
        "    [65, 70, 72],\n",
        "    [88, 91, 85]\n",
        "])\n",
        "\n",
        "print(\"Student Marks Array:\\n\", marks)\n",
        "\n",
        "# 2. Calculate average, minimum, and maximum marks\n",
        "average_marks = np.mean(marks, axis=1)\n",
        "min_marks = np.min(marks, axis=1)\n",
        "max_marks = np.max(marks, axis=1)\n",
        "\n",
        "print(\"\\nAverage Marks of Each Student:\", average_marks)\n",
        "print(\"Minimum Marks of Each Student:\", min_marks)\n",
        "print(\"Maximum Marks of Each Student:\", max_marks)\n",
        "\n",
        "# 3. Slicing to retrieve marks of specific students (e.g., 2nd and 4th students)\n",
        "print(\"\\nMarks of 2nd and 4th students:\\n\", marks[[1, 3]])\n",
        "\n",
        "# 4. Boolean indexing: Find students who scored above 80 in any subject\n",
        "above_80 = marks > 80\n",
        "print\n"
      ]
    },
    {
      "cell_type": "code",
      "source": [
        "import pandas as pd\n",
        "\n",
        "# 1. Create a DataFrame from a dictionary\n",
        "data = {\n",
        "    'Name': ['Alice', 'Bob', 'Charlie', 'David', 'Eva'],\n",
        "    'ID': [101, 102, 103, 104, 105],\n",
        "    'Department': ['HR', 'IT', 'Finance', 'IT', 'HR'],\n",
        "    'Salary': [48000, 52000, 60000, 45000, 70000]\n",
        "}\n",
        "\n",
        "df = pd.DataFrame(data)\n",
        "print(\"Original DataFrame:\\n\", df)\n",
        "\n",
        "# 2. Filter employees with salary > 50,000\n",
        "high_salary = df[df['Salary'] > 50000]\n",
        "print(\"\\nEmployees with salary > 50,000:\\n\", high_salary)\n",
        "\n",
        "# 3. Sort by salary in descending order\n",
        "sorted_df = df.sort_values(by='Salary', ascending=False)\n",
        "print(\"\\nDataFrame sorted by salary (descending):\\n\", sorted_df)\n",
        "\n",
        "# 4. Add Bonus column (10% of salary)\n",
        "df['Bonus'] = df['Salary'] * 0.10\n",
        "print(\"\\nDataFrame with Bonus column:\\n\", df)\n",
        "\n",
        "# 5. Calculate total salary expense including bonuses\n",
        "total_expense = (df['Salary'] + df['Bonus']).sum()\n",
        "print(\"\\nTotal salary expense including bonuses: ₹\", total_expense)\n",
        "\n",
        "# 6. Save the updated DataFrame to a CSV file\n",
        "df.to_csv(\"employee_salary_analysis.csv\", index=False)\n",
        "print(\"\\nCSV file saved as 'employee_salary_analysis.csv'\")\n"
      ],
      "metadata": {
        "colab": {
          "base_uri": "https://localhost:8080/"
        },
        "id": "JGOB7hhMMXy6",
        "outputId": "0260cfdb-204c-48c8-d828-2f992b91bc11"
      },
      "execution_count": null,
      "outputs": [
        {
          "output_type": "stream",
          "name": "stdout",
          "text": [
            "Original DataFrame:\n",
            "       Name   ID Department  Salary\n",
            "0    Alice  101         HR   48000\n",
            "1      Bob  102         IT   52000\n",
            "2  Charlie  103    Finance   60000\n",
            "3    David  104         IT   45000\n",
            "4      Eva  105         HR   70000\n",
            "\n",
            "Employees with salary > 50,000:\n",
            "       Name   ID Department  Salary\n",
            "1      Bob  102         IT   52000\n",
            "2  Charlie  103    Finance   60000\n",
            "4      Eva  105         HR   70000\n",
            "\n",
            "DataFrame sorted by salary (descending):\n",
            "       Name   ID Department  Salary\n",
            "4      Eva  105         HR   70000\n",
            "2  Charlie  103    Finance   60000\n",
            "1      Bob  102         IT   52000\n",
            "0    Alice  101         HR   48000\n",
            "3    David  104         IT   45000\n",
            "\n",
            "DataFrame with Bonus column:\n",
            "       Name   ID Department  Salary   Bonus\n",
            "0    Alice  101         HR   48000  4800.0\n",
            "1      Bob  102         IT   52000  5200.0\n",
            "2  Charlie  103    Finance   60000  6000.0\n",
            "3    David  104         IT   45000  4500.0\n",
            "4      Eva  105         HR   70000  7000.0\n",
            "\n",
            "Total salary expense including bonuses: ₹ 302500.0\n",
            "\n",
            "CSV file saved as 'employee_salary_analysis.csv'\n"
          ]
        }
      ]
    }
  ]
}